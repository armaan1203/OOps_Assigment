{
 "cells": [
  {
   "cell_type": "code",
   "execution_count": 1,
   "id": "344e6b1f-df50-4d3a-b116-59674c99f78e",
   "metadata": {},
   "outputs": [],
   "source": [
    "class bankacoount:\n",
    "    def account_number(self,account_no):\n",
    "        self.account_no=accountno\n",
    "        \n",
    "    def account_holder_name(self,acct_holder_name):\n",
    "        self.acct_holder_name=account_holder\n",
    "        print(f\"the account holder name is {account_holder}\")\n",
    "    \n",
    "    def account_balance(self,balance):\n",
    "        self.balance=balance\n",
    "        print(f\"your balace is {balance}\")\n",
    "        \n",
    "    def withdraw_cash(self,ammount):\n",
    "        self.ammount=ammount\n",
    "        print(f\"your withrawal is successfull you new balace is {self.balance-self.ammount} \")\n",
    "        \n",
    "    def deposit_cash(self,ammountt):\n",
    "        self.ammountt=ammountt\n",
    "        print(f\"your deposit is succesfull you new balance is {self.balance+self.ammountt}\")"
   ]
  },
  {
   "cell_type": "code",
   "execution_count": 2,
   "id": "9ff7d191-f5f1-4e73-9682-0b0a3180c3c2",
   "metadata": {},
   "outputs": [],
   "source": [
    "x=bankacoount()"
   ]
  },
  {
   "cell_type": "code",
   "execution_count": 3,
   "id": "66ec6a96-5393-4a4f-b337-59303bb59c33",
   "metadata": {},
   "outputs": [
    {
     "name": "stdout",
     "output_type": "stream",
     "text": [
      "your balace is 5000000\n"
     ]
    }
   ],
   "source": [
    "x.account_balance(5000000)"
   ]
  },
  {
   "cell_type": "code",
   "execution_count": 4,
   "id": "9ea35b94-555c-483d-a2ca-801dec96b0cf",
   "metadata": {},
   "outputs": [
    {
     "name": "stdout",
     "output_type": "stream",
     "text": [
      "your withrawal is successfull you new balace is 4990000 \n"
     ]
    }
   ],
   "source": [
    "x.withdraw_cash(10000)"
   ]
  },
  {
   "cell_type": "code",
   "execution_count": 5,
   "id": "883a3efa-4bc6-4a8c-ba6b-8b67c19d730c",
   "metadata": {},
   "outputs": [
    {
     "name": "stdout",
     "output_type": "stream",
     "text": [
      "your deposit is succesfull you new balance is 5050000\n"
     ]
    }
   ],
   "source": [
    "x.deposit_cash(50000)"
   ]
  },
  {
   "cell_type": "code",
   "execution_count": 6,
   "id": "899b9019-248f-45a9-ac50-312d8d57c8b1",
   "metadata": {},
   "outputs": [],
   "source": [
    "class employee:\n",
    "    def employee_id(self,employeeid):\n",
    "        self.employeeid=employeeid\n",
    "        print(f'employee id is {employeeid}')\n",
    "    \n",
    "    def employe_name(self,employeename):\n",
    "        self.employeename=employeename\n",
    "        print(f\"the emp[loyee name is {employeename}\")\n",
    "        \n",
    "    def employee_salary(self,salary):\n",
    "        self.salary=salary\n",
    "        print(f\"employee salary is {salary}\")\n",
    "    \n",
    "    def cal_yearly_bonus(self):\n",
    "        self.anual_income=self.salary*12\n",
    "        print(f\"employee yearly bonus is {self.anual_income*0.08}\")"
   ]
  },
  {
   "cell_type": "code",
   "execution_count": 7,
   "id": "4821cb05-1dd4-4e90-97ee-52aaa6cef21d",
   "metadata": {},
   "outputs": [],
   "source": [
    "a=employee()"
   ]
  },
  {
   "cell_type": "code",
   "execution_count": 8,
   "id": "1b3dfc7c-f18e-49b0-86a2-2f3349d110c1",
   "metadata": {},
   "outputs": [
    {
     "name": "stdout",
     "output_type": "stream",
     "text": [
      "employee id is 1\n"
     ]
    }
   ],
   "source": [
    "a.employee_id(1)"
   ]
  },
  {
   "cell_type": "code",
   "execution_count": 9,
   "id": "0b7a740c-434a-40c8-a002-be8b33af6c45",
   "metadata": {},
   "outputs": [
    {
     "name": "stdout",
     "output_type": "stream",
     "text": [
      "the emp[loyee name is armaan yadav\n"
     ]
    }
   ],
   "source": [
    "a.employe_name('armaan yadav')"
   ]
  },
  {
   "cell_type": "code",
   "execution_count": 10,
   "id": "a4fb7dd8-a40b-4878-a369-267aa42cc3ae",
   "metadata": {},
   "outputs": [
    {
     "name": "stdout",
     "output_type": "stream",
     "text": [
      "employee salary is 1000000\n"
     ]
    }
   ],
   "source": [
    "a.employee_salary(1000000)"
   ]
  },
  {
   "cell_type": "code",
   "execution_count": 11,
   "id": "c4917fe8-a4ff-4147-853c-f89e2fee58fe",
   "metadata": {},
   "outputs": [
    {
     "name": "stdout",
     "output_type": "stream",
     "text": [
      "employee yearly bonus is 960000.0\n"
     ]
    }
   ],
   "source": [
    "a.cal_yearly_bonus()"
   ]
  },
  {
   "cell_type": "code",
   "execution_count": 12,
   "id": "8deb8d79-8b1e-4089-bf5e-45df9fc1095f",
   "metadata": {},
   "outputs": [],
   "source": [
    "class vehical:\n",
    "    def vehical_available(self,*vehicals):\n",
    "        self.vehicals=vehicals\n",
    "        print(f\"the available vehicals are {vehicals}\")\n",
    "        \n",
    "    def vehical_rent(self,vehical_name,vehical_rent):\n",
    "        self.vehical_name=vehical_name\n",
    "        self.vehical_rent=vehical_rent\n",
    "        print(f\"your vehical {vehical_name} has been rented with rent {vehical_rent}\")\n",
    "        \n",
    "    def return_vehical(self,vehicalname):\n",
    "        self.vehicalname=vehicalname\n",
    "        print(f\"the {vehicalname} is been returned \")"
   ]
  },
  {
   "cell_type": "code",
   "execution_count": 13,
   "id": "00be98c8-eb6a-4267-bd38-18df6c9db5d9",
   "metadata": {},
   "outputs": [],
   "source": [
    "b=vehical()"
   ]
  },
  {
   "cell_type": "code",
   "execution_count": 14,
   "id": "72dc6b91-ba0f-45dc-8a81-b699c830bc54",
   "metadata": {},
   "outputs": [
    {
     "name": "stdout",
     "output_type": "stream",
     "text": [
      "the available vehicals are ('honda', 'shine', 'splendor', 'royal enfield')\n"
     ]
    }
   ],
   "source": [
    "b.vehical_available(\"honda\",\"shine\",\"splendor\",\"royal enfield\")"
   ]
  },
  {
   "cell_type": "code",
   "execution_count": 15,
   "id": "d749e332-e8f3-4daf-9dd0-99bb48dc03c1",
   "metadata": {},
   "outputs": [
    {
     "name": "stdout",
     "output_type": "stream",
     "text": [
      "your vehical royal enfield has been rented with rent 500\n"
     ]
    }
   ],
   "source": [
    "b.vehical_rent(\"royal enfield\",500)"
   ]
  },
  {
   "cell_type": "code",
   "execution_count": 16,
   "id": "72c4dace-7965-4fec-931e-68363cb30179",
   "metadata": {},
   "outputs": [
    {
     "name": "stdout",
     "output_type": "stream",
     "text": [
      "the royal enfield is been returned \n"
     ]
    }
   ],
   "source": [
    "b.return_vehical(\"royal enfield\")"
   ]
  },
  {
   "cell_type": "code",
   "execution_count": 17,
   "id": "77068265-b428-4281-a848-36e839d37931",
   "metadata": {},
   "outputs": [],
   "source": [
    "class library:\n",
    "    def available_books(self,*books):\n",
    "        self.books=books\n",
    "        print(f\"The books available are {books}\")\n",
    "    \n",
    "    def add_books(self,*addbooks):\n",
    "        self.addbooks=addbooks\n",
    "        print(f\"the new available books affter adding book is {addbooks+self.books}\")\n",
    "    \n",
    "    def borrow_books(self,*booooks):\n",
    "        self.booooks=booooks\n",
    "        print(f\"the {booooks} have me borrowed \")\n"
   ]
  },
  {
   "cell_type": "code",
   "execution_count": 18,
   "id": "2d2b0c53-e22d-495b-b40a-5f2c8de76b67",
   "metadata": {},
   "outputs": [],
   "source": [
    "c=library()"
   ]
  },
  {
   "cell_type": "code",
   "execution_count": 19,
   "id": "d005445f-f980-4d63-ad15-e455efdcaa5b",
   "metadata": {},
   "outputs": [
    {
     "name": "stdout",
     "output_type": "stream",
     "text": [
      "The books available are ('fairy tale', 'english', 'hindi', 'marathi')\n"
     ]
    }
   ],
   "source": [
    "c.available_books(\"fairy tale\",\"english\",\"hindi\",\"marathi\")"
   ]
  },
  {
   "cell_type": "code",
   "execution_count": 20,
   "id": "eec8ea48-6ab9-4300-94f6-7d93e230c019",
   "metadata": {},
   "outputs": [
    {
     "name": "stdout",
     "output_type": "stream",
     "text": [
      "the ('hindi', 'marathi') have me borrowed \n"
     ]
    }
   ],
   "source": [
    "c.borrow_books(\"hindi\",\"marathi\")"
   ]
  },
  {
   "cell_type": "code",
   "execution_count": 21,
   "id": "8552d516-ee78-40cb-8488-cac20580d6a1",
   "metadata": {},
   "outputs": [
    {
     "name": "stdout",
     "output_type": "stream",
     "text": [
      "the new available books affter adding book is ('pyhton', 'java', 'fairy tale', 'english', 'hindi', 'marathi')\n"
     ]
    }
   ],
   "source": [
    "c.add_books(\"pyhton\",\"java\")"
   ]
  },
  {
   "cell_type": "code",
   "execution_count": 22,
   "id": "2db4527c-a84d-42cf-bbe2-1d3f9120bca6",
   "metadata": {},
   "outputs": [],
   "source": [
    "class inventry:\n",
    "    def __init__(self):\n",
    "        self.products={}\n",
    "        \n",
    "    def add_products(self,product_name,quantity):\n",
    "        if product_name in self.products:\n",
    "            print(f\"the product name {product_name} already exist please try with update\")\n",
    "            self.update_products(product_name,quantity)\n",
    "        else:\n",
    "            self.products[product_name]= {\n",
    "                \"product\" : product_name,\n",
    "                \"quantity\" : quantity\n",
    "            }\n",
    "            print(f\"added {product_name} to the inventory\")\n",
    "            \n",
    "    def update_products(self,product_name,quantity):\n",
    "        if product_name in self.products:\n",
    "            self.products[product_name][\"quantity\"]+=quantity\n",
    "            print(f\"updated product {product_name} quantity by {quantity} to {self.products[product_name]['quantity']}\")\n",
    "        else:\n",
    "            print(f\"the product {product_name}  not found found in inventory\")\n",
    "            \n",
    "    def display_products(self):\n",
    "        if not self.products:\n",
    "            print(\"No products in the inventory.\")\n",
    "            return\n",
    "        \n",
    "        print(\"Available products in the inventory:\")\n",
    "        for product_name, details in self.products.items():\n",
    "            print(f\"name: {product_name}, Quantity: {details['quantity']}\")"
   ]
  },
  {
   "cell_type": "code",
   "execution_count": 23,
   "id": "1394c9a3-fc06-4507-8a1e-d783f452f05b",
   "metadata": {},
   "outputs": [],
   "source": [
    "d=inventry()"
   ]
  },
  {
   "cell_type": "code",
   "execution_count": 24,
   "id": "c6737fac-38c2-4177-b499-f1900c9d9be8",
   "metadata": {},
   "outputs": [
    {
     "name": "stdout",
     "output_type": "stream",
     "text": [
      "added apple to the inventory\n"
     ]
    }
   ],
   "source": [
    "d.add_products(\"apple\",10)"
   ]
  },
  {
   "cell_type": "code",
   "execution_count": 25,
   "id": "6f0b68a6-d343-4da8-b676-8154599fe60f",
   "metadata": {},
   "outputs": [
    {
     "name": "stdout",
     "output_type": "stream",
     "text": [
      "added banana to the inventory\n"
     ]
    }
   ],
   "source": [
    "d.add_products(\"banana\",7)"
   ]
  },
  {
   "cell_type": "code",
   "execution_count": 26,
   "id": "4786fe3b-aa76-456c-a673-b1fc465c63bb",
   "metadata": {},
   "outputs": [
    {
     "name": "stdout",
     "output_type": "stream",
     "text": [
      "the product name apple already exist please try with update\n",
      "updated product apple quantity by 10 to 20\n"
     ]
    }
   ],
   "source": [
    "d.add_products(\"apple\",10)"
   ]
  },
  {
   "cell_type": "code",
   "execution_count": 27,
   "id": "ef59d2b7-245d-4248-8546-902774c456dd",
   "metadata": {},
   "outputs": [
    {
     "name": "stdout",
     "output_type": "stream",
     "text": [
      "Available products in the inventory:\n",
      "name: apple, Quantity: 20\n",
      "name: banana, Quantity: 7\n"
     ]
    }
   ],
   "source": [
    "d.display_products()"
   ]
  },
  {
   "cell_type": "code",
   "execution_count": 28,
   "id": "6ae61e60-5aed-4060-ae65-2eb412d03f2a",
   "metadata": {},
   "outputs": [],
   "source": [
    "class shape:\n",
    "    def __init__(self,length ,breath ,height=None):\n",
    "        self.length=length\n",
    "        self.breath=breath\n",
    "        self.height=height\n",
    "        \n",
    "    def area(self):\n",
    "        if self.height is None:\n",
    "            return self.length * self.breath\n",
    "        else:\n",
    "            x=self.length * self.breath\n",
    "            y=self.length * self.height\n",
    "            z=self.breath * self.height\n",
    "            return 2*(x+y+z)\n",
    "        \n",
    "    def perimeter(self):\n",
    "        if self.height is None:\n",
    "            return 2*(self.length +self.breath)\n",
    "        else:\n",
    "            return 2*(self.length+ self.breath + self.height)"
   ]
  },
  {
   "cell_type": "code",
   "execution_count": 29,
   "id": "18612327-514f-40a5-b853-fa8bafdd7de4",
   "metadata": {},
   "outputs": [],
   "source": [
    "e=shape(5,10,15)"
   ]
  },
  {
   "cell_type": "code",
   "execution_count": 30,
   "id": "db903081-ee4a-4832-82ff-bb8d1f950eaf",
   "metadata": {},
   "outputs": [
    {
     "data": {
      "text/plain": [
       "550"
      ]
     },
     "execution_count": 30,
     "metadata": {},
     "output_type": "execute_result"
    }
   ],
   "source": [
    "e.area()"
   ]
  },
  {
   "cell_type": "code",
   "execution_count": 31,
   "id": "44c8a6ec-86ef-428b-b2ae-46131d6c030d",
   "metadata": {},
   "outputs": [
    {
     "data": {
      "text/plain": [
       "60"
      ]
     },
     "execution_count": 31,
     "metadata": {},
     "output_type": "execute_result"
    }
   ],
   "source": [
    "e.perimeter()"
   ]
  },
  {
   "cell_type": "code",
   "execution_count": 15,
   "id": "76d1182d-2c03-472d-ba1a-3fc9235e93e6",
   "metadata": {},
   "outputs": [],
   "source": [
    "class Student:\n",
    "    def __init__(self,student_id,student_name,grade):\n",
    "        self.student_id=student_id\n",
    "        self.student_name=student_name\n",
    "        self.grade=grade\n",
    "\n",
    "    def cal_grade(self):\n",
    "        if not self.grade:\n",
    "            return 0\n",
    "        return sum(self.grade) / len(self.grade)\n",
    "    \n",
    "    def display_student_detail(self):\n",
    "        avrg_grade=self.cal_grade()\n",
    "        print(f\"student : {self.student_id}\")\n",
    "        print(f\"student_name : {self.student_name}\")\n",
    "        print(f\"grade : {self.grade}\")\n",
    "        print(f\"Average Grade: {avrg_grade:.2f}\")\n",
    "        "
   ]
  },
  {
   "cell_type": "code",
   "execution_count": 16,
   "id": "8fbdc2e6-eae6-4b43-b315-6aececf78ad2",
   "metadata": {},
   "outputs": [],
   "source": [
    "f=Student(\"1\",\"Armaan Yadav\",[10,20,30,40,50])"
   ]
  },
  {
   "cell_type": "code",
   "execution_count": 17,
   "id": "7eb26b43-6c5b-49d6-b55a-a38aff760fd7",
   "metadata": {},
   "outputs": [
    {
     "name": "stdout",
     "output_type": "stream",
     "text": [
      "student : 1\n",
      "student_name : Armaan Yadav\n",
      "grade : [10, 20, 30, 40, 50]\n",
      "Average Grade: 30.00\n"
     ]
    }
   ],
   "source": [
    "f.display_student_detail()"
   ]
  },
  {
   "cell_type": "code",
   "execution_count": 21,
   "id": "c5a4d7dc-6b34-41ae-adca-56478cde7a63",
   "metadata": {},
   "outputs": [],
   "source": [
    "class Mail:\n",
    "    def __init__(self,sendar,recipient):\n",
    "        self.sendar=sendar\n",
    "        self.recipient=recipient\n",
    "        \n",
    "    def send_mail(self,subject):\n",
    "        self.subject=subject\n",
    "        print(\"you have loged in to send the mail\")\n",
    "        print(f\"your subject :{self.subject}\")\n",
    "        print(\"THank you! your mail have been sent\")\n",
    "        \n",
    "    def display_details_mail(self):\n",
    "        print(f\"sendar : {self.sendar}\")\n",
    "        print(f\"recipient : {self.recipient}\")\n",
    "        print(f\"subject : {self.subject}\")"
   ]
  },
  {
   "cell_type": "code",
   "execution_count": 22,
   "id": "ae53ce6b-afc6-4f29-a481-2ea6007c3771",
   "metadata": {},
   "outputs": [],
   "source": [
    "g=Mail(\"Armaan\",\"komal\")"
   ]
  },
  {
   "cell_type": "code",
   "execution_count": 26,
   "id": "aad8de05-9463-4b65-bb6b-7af6cf06b621",
   "metadata": {},
   "outputs": [
    {
     "name": "stdout",
     "output_type": "stream",
     "text": [
      "you have loged in to send the mail\n",
      "your subject :hi how are you baby,I love you!\n",
      "THank you! your mail have been sent\n"
     ]
    }
   ],
   "source": [
    "g.send_mail(\"hi how are you baby,I love you!\")"
   ]
  },
  {
   "cell_type": "code",
   "execution_count": 27,
   "id": "cfb0f026-e160-43c3-9b5f-579c8275401d",
   "metadata": {},
   "outputs": [
    {
     "name": "stdout",
     "output_type": "stream",
     "text": [
      "sendar : Armaan\n",
      "recipient : komal\n",
      "subject : hi how are you baby,I love you!\n"
     ]
    }
   ],
   "source": [
    "g.display_details_mail()"
   ]
  },
  {
   "cell_type": "code",
   "execution_count": 11,
   "id": "33d4dcf6-3c88-4e48-a02c-79f1ec392b8d",
   "metadata": {},
   "outputs": [],
   "source": [
    "class social_media:\n",
    "    def __init__(self,username):\n",
    "        self.username=username\n",
    "        self.post=[]\n",
    "        \n",
    "    def add_posts(self,content):\n",
    "        self.post.append(content)\n",
    "        print(f\"th post '{content}' is added\")\n",
    "    \n",
    "    def display_posts(self):\n",
    "        \"\"\"Display all posts of the profile.\"\"\"\n",
    "        if not self.post:\n",
    "            print(\"No posts to display.\")\n",
    "        else:\n",
    "            for i, post in enumerate(self.post, start=1):\n",
    "                print(f\"Post {i}: {post}\")\n",
    "                \n",
    "    def search_posts_by_keyword(self, keyword):\n",
    "        \"\"\"Search for posts containing a specific keyword.\"\"\"\n",
    "        matching_posts = [post for post in self.post if keyword in post]\n",
    "        if not matching_posts:\n",
    "            print(f\"No posts found containing the keyword: {keyword}\")\n",
    "        else:\n",
    "            for i, post in enumerate(matching_posts, start=1):\n",
    "                print(f\"Matching Post {i}: {post}\")\n"
   ]
  },
  {
   "cell_type": "code",
   "execution_count": 12,
   "id": "8ed5c0d1-d271-47c4-a617-a56491ebf536",
   "metadata": {},
   "outputs": [],
   "source": [
    "h=social_media(\"aman_123\")"
   ]
  },
  {
   "cell_type": "code",
   "execution_count": 13,
   "id": "d39d7692-516e-48d5-92ea-81ea2add6388",
   "metadata": {},
   "outputs": [
    {
     "name": "stdout",
     "output_type": "stream",
     "text": [
      "th post 'i am doing code' is added\n"
     ]
    }
   ],
   "source": [
    "h.add_posts(\"i am doing code\")"
   ]
  },
  {
   "cell_type": "code",
   "execution_count": 14,
   "id": "cabf00e5-b6cb-4dcb-a7ae-fb596967e4d6",
   "metadata": {},
   "outputs": [
    {
     "name": "stdout",
     "output_type": "stream",
     "text": [
      "th post 'i had a coffee' is added\n"
     ]
    }
   ],
   "source": [
    "h.add_posts(\"i had a coffee\")"
   ]
  },
  {
   "cell_type": "code",
   "execution_count": 15,
   "id": "482e26c8-2cc9-4c92-8c1e-4ceeeb5d16fd",
   "metadata": {},
   "outputs": [
    {
     "name": "stdout",
     "output_type": "stream",
     "text": [
      "Post 1: i am doing code\n",
      "Post 2: i had a coffee\n"
     ]
    }
   ],
   "source": [
    "h.display_posts()"
   ]
  },
  {
   "cell_type": "code",
   "execution_count": 18,
   "id": "ea643fc5-e678-453c-a314-7025ca58ec5f",
   "metadata": {},
   "outputs": [
    {
     "name": "stdout",
     "output_type": "stream",
     "text": [
      "Matching Post 1: i had a coffee\n"
     ]
    }
   ],
   "source": [
    "h.search_posts_by_keyword(\"coffee\")"
   ]
  },
  {
   "cell_type": "code",
   "execution_count": 3,
   "id": "fa723c9e-0325-4aae-baa0-8959d1bf58c9",
   "metadata": {},
   "outputs": [],
   "source": [
    "class ToDoList:\n",
    "    def __init__(self):\n",
    "        self.tasks = []\n",
    "\n",
    "    def add_task(self, description):\n",
    "        \"\"\"Add a new task with a description.\"\"\"\n",
    "        task = {\n",
    "            'description': description,\n",
    "            'completed': False\n",
    "        }\n",
    "        self.tasks.append(task)\n",
    "        print(f\"Task added: {description}\")\n",
    "\n",
    "    def mark_task_as_completed(self, task_index):\n",
    "        \"\"\"Mark a task as completed by its index.\"\"\"\n",
    "        if 0 <= task_index < len(self.tasks):\n",
    "            self.tasks[task_index]['completed'] = True\n",
    "            print(f\"Task marked as completed: {self.tasks[task_index]['description']}\")\n",
    "        else:\n",
    "            print(\"Invalid task index.\")\n",
    "\n",
    "    def display_pending_tasks(self):\n",
    "        \"\"\"Display all pending tasks.\"\"\"\n",
    "        pending_tasks = [task for task in self.tasks if not task['completed']]\n",
    "        if not pending_tasks:\n",
    "            print(\"No pending tasks.\")\n",
    "        else:\n",
    "            for i, task in enumerate(pending_tasks, start=1):\n",
    "                print(f\"Task {i}: {task['description']} - Pending\")\n",
    "        "
   ]
  },
  {
   "cell_type": "code",
   "execution_count": 4,
   "id": "43e13b2c-929d-48e9-b0de-43e9d6fda4a3",
   "metadata": {},
   "outputs": [
    {
     "name": "stdout",
     "output_type": "stream",
     "text": [
      "Task added: Finish writing report\n",
      "Task added: Buy groceries\n",
      "Task added: Call Alice\n",
      "Task 1: Finish writing report - Pending\n",
      "Task 2: Buy groceries - Pending\n",
      "Task 3: Call Alice - Pending\n",
      "Task marked as completed: Buy groceries\n",
      "Task 1: Finish writing report - Pending\n",
      "Task 2: Call Alice - Pending\n"
     ]
    }
   ],
   "source": [
    "todo_list = ToDoList()\n",
    "todo_list.add_task(\"Finish writing report\")\n",
    "todo_list.add_task(\"Buy groceries\")\n",
    "todo_list.add_task(\"Call Alice\")\n",
    "\n",
    "todo_list.display_pending_tasks()\n",
    "todo_list.mark_task_as_completed(1)\n",
    "todo_list.display_pending_tasks()"
   ]
  },
  {
   "cell_type": "code",
   "execution_count": null,
   "id": "b33a7ea7-8f27-4697-9847-09709f2023f0",
   "metadata": {},
   "outputs": [],
   "source": []
  }
 ],
 "metadata": {
  "kernelspec": {
   "display_name": "Python 3 (ipykernel)",
   "language": "python",
   "name": "python3"
  },
  "language_info": {
   "codemirror_mode": {
    "name": "ipython",
    "version": 3
   },
   "file_extension": ".py",
   "mimetype": "text/x-python",
   "name": "python",
   "nbconvert_exporter": "python",
   "pygments_lexer": "ipython3",
   "version": "3.10.8"
  }
 },
 "nbformat": 4,
 "nbformat_minor": 5
}
